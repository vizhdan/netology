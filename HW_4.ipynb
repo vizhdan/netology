{
 "cells": [
  {
   "cell_type": "code",
   "execution_count": 1,
   "id": "c0ed566a-bd77-4d79-8d84-c0131938ef48",
   "metadata": {
    "tags": []
   },
   "outputs": [
    {
     "data": {
      "text/plain": [
       "'код должен быть грамотно декомпозирован: каждая функция отвечает за свою конкретную задачу, дублирующиеся функции переиспользуются, а их код не повторяется;\\nв коде отсутствуют глобальные переменные, за исключением documents и directories;\\nпользовательский ввод обрабатывается в цикле while до тех пор, пока пользователь явно не завершит программу вводом команды «q».\\n'"
      ]
     },
     "execution_count": 1,
     "metadata": {},
     "output_type": "execute_result"
    }
   ],
   "source": [
    "##Попробуем\n",
    "#*1. Перечень всех документов*\n",
    "\n",
    "documents = [\n",
    " {'type': 'passport', 'number': '2207 876234', 'name': 'Василий Гупкин'},\n",
    " {'type': 'invoice', 'number': '11-2', 'name': 'Геннадий Покемонов'},\n",
    " {'type': 'insurance', 'number': '10006', 'name': 'Аристарх Павлов'}\n",
    "]\n",
    "\n",
    "#*2. Перечень полок, на которых хранятся документы, если документ есть в documents, он обязательно должен быть и в directories*\n",
    "directories = {\n",
    " '1': ['2207 876234', '11-2'],\n",
    " '2': ['10006'],\n",
    " '3': []\n",
    "}\n",
    "\n",
    "#Общие требования к программе:\n",
    "\n",
    "\"\"\"код должен быть грамотно декомпозирован: каждая функция отвечает за свою конкретную задачу, дублирующиеся функции переиспользуются, а их код не повторяется;\n",
    "в коде отсутствуют глобальные переменные, за исключением documents и directories;\n",
    "пользовательский ввод обрабатывается в цикле while до тех пор, пока пользователь явно не завершит программу вводом команды «q».\n",
    "\"\"\"\n",
    "\n",
    "\n"
   ]
  },
  {
   "cell_type": "code",
   "execution_count": 2,
   "id": "ff8460d6-9374-4013-a4df-bd110b5f165d",
   "metadata": {
    "tags": []
   },
   "outputs": [
    {
     "name": "stdin",
     "output_type": "stream",
     "text": [
      "Введите команду  p\n",
      "Введите число 11-2\n"
     ]
    },
    {
     "name": "stdout",
     "output_type": "stream",
     "text": [
      "Геннадий Покемонов\n"
     ]
    },
    {
     "name": "stdin",
     "output_type": "stream",
     "text": [
      "Введите команду  q\n"
     ]
    },
    {
     "name": "stdout",
     "output_type": "stream",
     "text": [
      "Цикл закончен\n"
     ]
    }
   ],
   "source": [
    "#Дано\n",
    "documents = [\n",
    " {'type': 'passport', 'number': '2207 876234', 'name': 'Василий Гупкин'},\n",
    " {'type': 'invoice', 'number': '11-2', 'name': 'Геннадий Покемонов'},\n",
    " {'type': 'insurance', 'number': '10006', 'name': 'Аристарх Павлов'}\n",
    "]\n",
    "\n",
    "directories = {\n",
    " '1': ['2207 876234', '11-2'],\n",
    " '2': ['10006'],\n",
    " '3': []\n",
    "}\n",
    "#Решение\n",
    "\n",
    "com = input('Введите команду ') \n",
    "while com != \"q\":\n",
    "        if com == \"p\":\n",
    "            def pr_p():\n",
    "                user_input = input('Введите число')\n",
    "                if user_input == documents[0]['number']:\n",
    "                    return  documents[0]['name']\n",
    "                if user_input == documents[1]['number']:\n",
    "                    return   documents[1]['name']\n",
    "                if user_input == documents[2]['number']:\n",
    "                    return  documents[2]['name']\n",
    "                else:\n",
    "                    return 'нет такого'\n",
    "            print(pr_p())\n",
    "        elif com == \"s\":\n",
    "            def pr_s():\n",
    "                user_input = input(\"Введите номер документа\")\n",
    "                if user_input == directories['1'][0]:\n",
    "                    return \"Документ на полке 1\" \n",
    "                if user_input == directories['1'][1]:\n",
    "                    return \"Документ на полке 1\" \n",
    "                if user_input == directories['2'][0]:\n",
    "                    return \"Документ на полке 1\" \n",
    "            print(pr_s())\n",
    "    \n",
    "        com = input('Введите команду ')    \n",
    "print('Цикл закончен')"
   ]
  }
 ],
 "metadata": {
  "kernelspec": {
   "display_name": "Python 3",
   "language": "python",
   "name": "python3"
  },
  "language_info": {
   "codemirror_mode": {
    "name": "ipython",
    "version": 3
   },
   "file_extension": ".py",
   "mimetype": "text/x-python",
   "name": "python",
   "nbconvert_exporter": "python",
   "pygments_lexer": "ipython3",
   "version": "3.7.2"
  }
 },
 "nbformat": 4,
 "nbformat_minor": 5
}
