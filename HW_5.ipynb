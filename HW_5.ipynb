{
 "cells": [
  {
   "cell_type": "code",
   "execution_count": 30,
   "id": "6973e7a5-1079-488a-97f3-83365e66a7b7",
   "metadata": {
    "tags": []
   },
   "outputs": [],
   "source": [
    "##ДЗ 5 \n",
    "#Работаем с файлами\n",
    "\n",
    "f = open('purchase_log.txt', 'r',encoding = 'utf-8') #открываем файл для чтения"
   ]
  },
  {
   "cell_type": "code",
   "execution_count": 71,
   "id": "f1ea3a08-959e-4753-9c18-63a4093e750e",
   "metadata": {
    "tags": []
   },
   "outputs": [
    {
     "data": {
      "text/plain": [
       "'ser_id\": \"4a92a68cf9\", \"category\": \"Электроника\"}\\n'"
      ]
     },
     "execution_count": 71,
     "metadata": {},
     "output_type": "execute_result"
    }
   ],
   "source": [
    "f.readline()"
   ]
  },
  {
   "cell_type": "code",
   "execution_count": 86,
   "id": "6506cbba-0c07-4954-8f64-3283a90b1410",
   "metadata": {
    "tags": []
   },
   "outputs": [
    {
     "ename": "ValueError",
     "evalue": "I/O operation on closed file.",
     "output_type": "error",
     "traceback": [
      "\u001b[1;31m---------------------------------------------------------------------------\u001b[0m",
      "\u001b[1;31mValueError\u001b[0m                                Traceback (most recent call last)",
      "\u001b[1;32m<ipython-input-86-16754355c5bd>\u001b[0m in \u001b[0;36m<module>\u001b[1;34m\u001b[0m\n\u001b[1;32m----> 1\u001b[1;33m \u001b[0mf\u001b[0m\u001b[1;33m.\u001b[0m\u001b[0mseek\u001b[0m\u001b[1;33m(\u001b[0m\u001b[1;36m0\u001b[0m\u001b[1;33m)\u001b[0m\u001b[1;33m\u001b[0m\u001b[1;33m\u001b[0m\u001b[0m\n\u001b[0m",
      "\u001b[1;31mValueError\u001b[0m: I/O operation on closed file."
     ]
    }
   ],
   "source": [
    "f.seek(0)"
   ]
  },
  {
   "cell_type": "code",
   "execution_count": 78,
   "id": "47310cf3-073a-419d-9ac4-ee650d5f52e1",
   "metadata": {
    "tags": []
   },
   "outputs": [
    {
     "name": "stdout",
     "output_type": "stream",
     "text": [
      "0 {\"user_id\": \"user_id\", \"category\": \"category\"}\n",
      "\n",
      "1 {\"category\": \"Продукты\", \"user_id\": \"1840e0b9d4\"}\n",
      "\n",
      "2 {\"user_id\": \"4e4f90fcfb\", \"category\": \"Электроника\"}\n",
      "\n",
      "3 {\"user_id\": \"afea8d72fc\", \"category\": \"Электроника\"}\n",
      "\n",
      "4 {\"user_id\": \"373a6055fe\", \"category\": \"Бытовая техника\"}\n",
      "\n",
      "5 {\"user_id\": \"9b2ab046f3\", \"category\": \"Электроника\"}\n",
      "\n",
      "6 {\"user_id\": \"9f39d307c3\", \"category\": \"Электроника\"}\n",
      "\n"
     ]
    }
   ],
   "source": [
    "for i, line in enumerate(f):\n",
    "    print(i,line)\n",
    "    if i>5:\n",
    "        break"
   ]
  },
  {
   "cell_type": "code",
   "execution_count": 81,
   "id": "2c9497d5-66e4-47b4-8988-7fca0098d061",
   "metadata": {
    "tags": []
   },
   "outputs": [
    {
     "ename": "NameError",
     "evalue": "name 'tupe' is not defined",
     "output_type": "error",
     "traceback": [
      "\u001b[1;31m---------------------------------------------------------------------------\u001b[0m",
      "\u001b[1;31mNameError\u001b[0m                                 Traceback (most recent call last)",
      "\u001b[1;32m<ipython-input-81-062803cdfab5>\u001b[0m in \u001b[0;36m<module>\u001b[1;34m\u001b[0m\n\u001b[0;32m      1\u001b[0m \u001b[1;32mimport\u001b[0m \u001b[0mjson\u001b[0m\u001b[1;33m\u001b[0m\u001b[1;33m\u001b[0m\u001b[0m\n\u001b[0;32m      2\u001b[0m \u001b[0mx\u001b[0m \u001b[1;33m=\u001b[0m \u001b[1;34m'{\"user_id\": \"704474fa2d\", \"category\": \"Продукты\"}'\u001b[0m\u001b[1;33m\u001b[0m\u001b[1;33m\u001b[0m\u001b[0m\n\u001b[1;32m----> 3\u001b[1;33m \u001b[0mtupe\u001b[0m\u001b[1;33m(\u001b[0m\u001b[0mjson\u001b[0m\u001b[1;33m.\u001b[0m\u001b[0mloads\u001b[0m\u001b[1;33m(\u001b[0m\u001b[0mx\u001b[0m\u001b[1;33m)\u001b[0m\u001b[1;33m)\u001b[0m\u001b[1;33m\u001b[0m\u001b[1;33m\u001b[0m\u001b[0m\n\u001b[0m",
      "\u001b[1;31mNameError\u001b[0m: name 'tupe' is not defined"
     ]
    }
   ],
   "source": [
    "import json\n",
    "x = '{\"user_id\": \"704474fa2d\", \"category\": \"Продукты\"}'\n",
    "type(json.loads(x))"
   ]
  },
  {
   "cell_type": "code",
   "execution_count": 68,
   "id": "ad47ef1e-c1e1-4ac0-beca-6b59ba334313",
   "metadata": {
    "tags": []
   },
   "outputs": [
    {
     "data": {
      "text/plain": [
       "('704474fa2d', 'Продукты')"
      ]
     },
     "execution_count": 68,
     "metadata": {},
     "output_type": "execute_result"
    }
   ],
   "source": [
    "json.loads(x)['user_id'],json.loads(x)['category']\n",
    "\n"
   ]
  },
  {
   "cell_type": "code",
   "execution_count": 17,
   "id": "c5150d9e-18cc-4083-892e-0027017643ec",
   "metadata": {
    "tags": []
   },
   "outputs": [
    {
     "name": "stdout",
     "output_type": "stream",
     "text": [
      "1 1840e0b9d4 Продукты\n",
      "2 4e4f90fcfb Электроника\n"
     ]
    }
   ],
   "source": [
    "##ИТОГ\n",
    "\n",
    "purchases = {} #Сюда будем записывать\n",
    "import json\n",
    "with open('purchase_log.txt', 'r', encoding = 'utf-8') as f:\n",
    "    next(f)\n",
    "    for  line in f:\n",
    "            line = line.strip()\n",
    "            \n",
    "            dict_ = json.loads(line)\n",
    "            \n",
    "            key = dict_['user_id']\n",
    "            value = dict_['category']\n",
    "            purchases[key] = value\n",
    "    #print(key,value) #проверка\n",
    "\n",
    "i = 0\n",
    "for key in purchases:\n",
    "    value = purchases[key]\n",
    "    print(i+1, '{} {}'.format(key, value))\n",
    "    i += 1\n",
    "    if i >= 2:\n",
    "        break\n",
    "        \n",
    "        \n"
   ]
  }
 ],
 "metadata": {
  "kernelspec": {
   "display_name": "Python 3",
   "language": "python",
   "name": "python3"
  },
  "language_info": {
   "codemirror_mode": {
    "name": "ipython",
    "version": 3
   },
   "file_extension": ".py",
   "mimetype": "text/x-python",
   "name": "python",
   "nbconvert_exporter": "python",
   "pygments_lexer": "ipython3",
   "version": "3.7.2"
  }
 },
 "nbformat": 4,
 "nbformat_minor": 5
}
