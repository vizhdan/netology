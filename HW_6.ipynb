{
 "cells": [
  {
   "cell_type": "code",
   "execution_count": 23,
   "id": "84d966a7-2f1a-4df9-8fa9-99547c4c616c",
   "metadata": {
    "tags": []
   },
   "outputs": [],
   "source": [
    "#Домашнее задание №6\n"
   ]
  },
  {
   "cell_type": "code",
   "execution_count": 2,
   "id": "b05ada9d-7026-455a-9db4-cf779bf1592f",
   "metadata": {
    "tags": []
   },
   "outputs": [],
   "source": [
    "import os\n",
    "import pandas as pd"
   ]
  },
  {
   "cell_type": "code",
   "execution_count": 2,
   "id": "5215c110-70d8-40e1-bff0-fe6c3c202a80",
   "metadata": {
    "tags": []
   },
   "outputs": [],
   "source": [
    "data = pd.read_csv('web_clients_correct.csv')"
   ]
  },
  {
   "cell_type": "code",
   "execution_count": 3,
   "id": "84781d5c-32c0-4de7-a812-c86395931265",
   "metadata": {
    "tags": []
   },
   "outputs": [
    {
     "data": {
      "text/plain": [
       "Index(['name', 'device_type', 'browser', 'sex', 'age', 'bill', 'region'], dtype='object')"
      ]
     },
     "execution_count": 3,
     "metadata": {},
     "output_type": "execute_result"
    }
   ],
   "source": [
    "data.head(15)\n",
    "data.columns"
   ]
  },
  {
   "cell_type": "code",
   "execution_count": 11,
   "id": "4c6878c2-0705-461c-8708-863c27e96d88",
   "metadata": {
    "tags": []
   },
   "outputs": [],
   "source": [
    "df_1 = data.head(15)\n",
    "df_1.loc[:10, ['sex','age']]\n",
    "df_2 = data.head(20)"
   ]
  },
  {
   "cell_type": "code",
   "execution_count": 5,
   "id": "b8a9a180-6d16-407c-ba82-e30419d9fd14",
   "metadata": {
    "tags": []
   },
   "outputs": [
    {
     "data": {
      "text/html": [
       "<div>\n",
       "<style scoped>\n",
       "    .dataframe tbody tr th:only-of-type {\n",
       "        vertical-align: middle;\n",
       "    }\n",
       "\n",
       "    .dataframe tbody tr th {\n",
       "        vertical-align: top;\n",
       "    }\n",
       "\n",
       "    .dataframe thead th {\n",
       "        text-align: right;\n",
       "    }\n",
       "</style>\n",
       "<table border=\"1\" class=\"dataframe\">\n",
       "  <thead>\n",
       "    <tr style=\"text-align: right;\">\n",
       "      <th></th>\n",
       "      <th>name</th>\n",
       "      <th>device_type</th>\n",
       "      <th>browser</th>\n",
       "      <th>sex</th>\n",
       "      <th>age</th>\n",
       "      <th>bill</th>\n",
       "      <th>region</th>\n",
       "    </tr>\n",
       "  </thead>\n",
       "  <tbody>\n",
       "    <tr>\n",
       "      <th>427</th>\n",
       "      <td>Hamalainen  Master. Viljo</td>\n",
       "      <td>laptop</td>\n",
       "      <td>Chrome</td>\n",
       "      <td>male</td>\n",
       "      <td>0.67</td>\n",
       "      <td>637</td>\n",
       "      <td>Detroit: MI</td>\n",
       "    </tr>\n",
       "    <tr>\n",
       "      <th>430</th>\n",
       "      <td>Harper  Miss. Annie Jessie \"Nina\"</td>\n",
       "      <td>desktop</td>\n",
       "      <td>Opera</td>\n",
       "      <td>female</td>\n",
       "      <td>6.00</td>\n",
       "      <td>1485</td>\n",
       "      <td>Denmark Hill: Surrey / Chicago</td>\n",
       "    </tr>\n",
       "    <tr>\n",
       "      <th>434</th>\n",
       "      <td>Hart  Miss. Eva Miriam</td>\n",
       "      <td>tablet</td>\n",
       "      <td>Firefox</td>\n",
       "      <td>female</td>\n",
       "      <td>7.00</td>\n",
       "      <td>459</td>\n",
       "      <td>Ilford: Essex / Winnipeg: MB</td>\n",
       "    </tr>\n",
       "    <tr>\n",
       "      <th>54</th>\n",
       "      <td>Carter  Master. William Thornton II</td>\n",
       "      <td>desktop</td>\n",
       "      <td>Internet Explorer</td>\n",
       "      <td>male</td>\n",
       "      <td>11.00</td>\n",
       "      <td>1392</td>\n",
       "      <td>Bryn Mawr: PA</td>\n",
       "    </tr>\n",
       "    <tr>\n",
       "      <th>830</th>\n",
       "      <td>Goodwin  Mr. Charles Edward</td>\n",
       "      <td>mobile</td>\n",
       "      <td>Internet Explorer</td>\n",
       "      <td>male</td>\n",
       "      <td>14.00</td>\n",
       "      <td>675</td>\n",
       "      <td>Wiltshire: England Niagara Falls: NY</td>\n",
       "    </tr>\n",
       "  </tbody>\n",
       "</table>\n",
       "</div>"
      ],
      "text/plain": [
       "                                    name device_type            browser  \\\n",
       "427            Hamalainen  Master. Viljo      laptop             Chrome   \n",
       "430    Harper  Miss. Annie Jessie \"Nina\"     desktop              Opera   \n",
       "434               Hart  Miss. Eva Miriam      tablet            Firefox   \n",
       "54   Carter  Master. William Thornton II     desktop  Internet Explorer   \n",
       "830          Goodwin  Mr. Charles Edward      mobile  Internet Explorer   \n",
       "\n",
       "        sex    age  bill                                region  \n",
       "427    male   0.67   637                           Detroit: MI  \n",
       "430  female   6.00  1485        Denmark Hill: Surrey / Chicago  \n",
       "434  female   7.00   459          Ilford: Essex / Winnipeg: MB  \n",
       "54     male  11.00  1392                         Bryn Mawr: PA  \n",
       "830    male  14.00   675  Wiltshire: England Niagara Falls: NY  "
      ]
     },
     "execution_count": 5,
     "metadata": {},
     "output_type": "execute_result"
    }
   ],
   "source": [
    "df_1.head()"
   ]
  },
  {
   "cell_type": "code",
   "execution_count": 10,
   "id": "dfc7826c-c0c2-439b-9c4a-10078a191413",
   "metadata": {
    "tags": []
   },
   "outputs": [
    {
     "name": "stdout",
     "output_type": "stream",
     "text": [
      "0               Старше 25\n",
      "1               Старше 25\n",
      "2               Старше 25\n",
      "3               Старше 25\n",
      "4     Младше или равен 25\n",
      "5               Старше 25\n",
      "6               Старше 25\n",
      "7               Старше 25\n",
      "8               Старше 25\n",
      "9               Старше 25\n",
      "10              Старше 25\n",
      "11              Старше 25\n",
      "12    Младше или равен 25\n",
      "13              Старше 25\n",
      "14              Старше 25\n",
      "Name: age, dtype: object\n"
     ]
    },
    {
     "name": "stderr",
     "output_type": "stream",
     "text": [
      "D:\\PF\\ORPA_141_CE_W64\\Resources\\WPy64-3720\\python-3.7.2.amd64\\lib\\site-packages\\ipykernel_launcher.py:8: SettingWithCopyWarning: \n",
      "A value is trying to be set on a copy of a slice from a DataFrame.\n",
      "Try using .loc[row_indexer,col_indexer] = value instead\n",
      "\n",
      "See the caveats in the documentation: https://pandas.pydata.org/pandas-docs/stable/user_guide/indexing.html#returning-a-view-versus-a-copy\n",
      "  \n"
     ]
    }
   ],
   "source": [
    "#Задание 1 упрощенно\n",
    "def age_category(x):\n",
    "    if x > 25:\n",
    "        return 'Старше 25'\n",
    "    else:\n",
    "        return 'Младше или равен 25'\n",
    "\n",
    "df_1['age'] = df_1['age'].apply(age_category)\n",
    "print(df_1.loc[:15, 'age'])"
   ]
  },
  {
   "cell_type": "code",
   "execution_count": 19,
   "id": "a68b44aa-af8c-4f63-bfe6-8ffdfccad72c",
   "metadata": {
    "tags": []
   },
   "outputs": [
    {
     "data": {
      "text/html": [
       "<div>\n",
       "<style scoped>\n",
       "    .dataframe tbody tr th:only-of-type {\n",
       "        vertical-align: middle;\n",
       "    }\n",
       "\n",
       "    .dataframe tbody tr th {\n",
       "        vertical-align: top;\n",
       "    }\n",
       "\n",
       "    .dataframe thead th {\n",
       "        text-align: right;\n",
       "    }\n",
       "</style>\n",
       "<table border=\"1\" class=\"dataframe\">\n",
       "  <thead>\n",
       "    <tr style=\"text-align: right;\">\n",
       "      <th></th>\n",
       "      <th>Age_category</th>\n",
       "      <th>age</th>\n",
       "    </tr>\n",
       "  </thead>\n",
       "  <tbody>\n",
       "    <tr>\n",
       "      <th>0</th>\n",
       "      <td>Старше 25</td>\n",
       "      <td>29.0</td>\n",
       "    </tr>\n",
       "    <tr>\n",
       "      <th>1</th>\n",
       "      <td>Старше 25</td>\n",
       "      <td>48.0</td>\n",
       "    </tr>\n",
       "    <tr>\n",
       "      <th>2</th>\n",
       "      <td>Старше 25</td>\n",
       "      <td>48.0</td>\n",
       "    </tr>\n",
       "    <tr>\n",
       "      <th>3</th>\n",
       "      <td>Старше 25</td>\n",
       "      <td>30.0</td>\n",
       "    </tr>\n",
       "    <tr>\n",
       "      <th>4</th>\n",
       "      <td>Младше или равен 25</td>\n",
       "      <td>25.0</td>\n",
       "    </tr>\n",
       "    <tr>\n",
       "      <th>5</th>\n",
       "      <td>Старше 25</td>\n",
       "      <td>48.0</td>\n",
       "    </tr>\n",
       "    <tr>\n",
       "      <th>6</th>\n",
       "      <td>Старше 25</td>\n",
       "      <td>63.0</td>\n",
       "    </tr>\n",
       "    <tr>\n",
       "      <th>7</th>\n",
       "      <td>Старше 25</td>\n",
       "      <td>39.0</td>\n",
       "    </tr>\n",
       "    <tr>\n",
       "      <th>8</th>\n",
       "      <td>Старше 25</td>\n",
       "      <td>53.0</td>\n",
       "    </tr>\n",
       "    <tr>\n",
       "      <th>9</th>\n",
       "      <td>Старше 25</td>\n",
       "      <td>71.0</td>\n",
       "    </tr>\n",
       "    <tr>\n",
       "      <th>10</th>\n",
       "      <td>Старше 25</td>\n",
       "      <td>47.0</td>\n",
       "    </tr>\n",
       "    <tr>\n",
       "      <th>11</th>\n",
       "      <td>Старше 25</td>\n",
       "      <td>48.0</td>\n",
       "    </tr>\n",
       "    <tr>\n",
       "      <th>12</th>\n",
       "      <td>Младше или равен 25</td>\n",
       "      <td>24.0</td>\n",
       "    </tr>\n",
       "    <tr>\n",
       "      <th>13</th>\n",
       "      <td>Старше 25</td>\n",
       "      <td>26.0</td>\n",
       "    </tr>\n",
       "    <tr>\n",
       "      <th>14</th>\n",
       "      <td>Старше 25</td>\n",
       "      <td>80.0</td>\n",
       "    </tr>\n",
       "    <tr>\n",
       "      <th>15</th>\n",
       "      <td>Старше 25</td>\n",
       "      <td>48.0</td>\n",
       "    </tr>\n",
       "  </tbody>\n",
       "</table>\n",
       "</div>"
      ],
      "text/plain": [
       "           Age_category   age\n",
       "0             Старше 25  29.0\n",
       "1             Старше 25  48.0\n",
       "2             Старше 25  48.0\n",
       "3             Старше 25  30.0\n",
       "4   Младше или равен 25  25.0\n",
       "5             Старше 25  48.0\n",
       "6             Старше 25  63.0\n",
       "7             Старше 25  39.0\n",
       "8             Старше 25  53.0\n",
       "9             Старше 25  71.0\n",
       "10            Старше 25  47.0\n",
       "11            Старше 25  48.0\n",
       "12  Младше или равен 25  24.0\n",
       "13            Старше 25  26.0\n",
       "14            Старше 25  80.0\n",
       "15            Старше 25  48.0"
      ]
     },
     "execution_count": 19,
     "metadata": {},
     "output_type": "execute_result"
    }
   ],
   "source": [
    "df_2.insert(2, \"Age_category\",'')"
   ]
  },
  {
   "cell_type": "code",
   "execution_count": null,
   "id": "866ae9e1-7524-4b4a-ada0-4cbb23fa9213",
   "metadata": {},
   "outputs": [],
   "source": [
    "#Задание 1 c заменой столбца\n",
    "def age_category(x):\n",
    "    if x > 25:\n",
    "        return 'Старше 25'\n",
    "    else:\n",
    "        return 'Младше или равен 25'\n",
    "df_2['Age_category'] = df_2['age'].apply(age_category)\n",
    "print(df_1.loc[:15, ['Age_category','age']])"
   ]
  },
  {
   "cell_type": "code",
   "execution_count": null,
   "id": "bca1076d-a03b-4aa1-a320-bd63f2920a71",
   "metadata": {},
   "outputs": [],
   "source": [
    "df_2.loc[:15,['Age_category','age']]"
   ]
  },
  {
   "cell_type": "code",
   "execution_count": 5,
   "id": "451a4759-72bf-4cc1-84d1-3cc1121d836c",
   "metadata": {
    "tags": []
   },
   "outputs": [],
   "source": [
    "##Задание 2 \n",
    "import numpy as np\n",
    "DataFrame = pd.read_csv('web_clients_correct.csv')"
   ]
  },
  {
   "cell_type": "code",
   "execution_count": 22,
   "id": "a08d0a58-3194-44ef-b430-fc3a74b977d1",
   "metadata": {
    "tags": []
   },
   "outputs": [
    {
     "data": {
      "text/html": [
       "<div>\n",
       "<style scoped>\n",
       "    .dataframe tbody tr th:only-of-type {\n",
       "        vertical-align: middle;\n",
       "    }\n",
       "\n",
       "    .dataframe tbody tr th {\n",
       "        vertical-align: top;\n",
       "    }\n",
       "\n",
       "    .dataframe thead th {\n",
       "        text-align: right;\n",
       "    }\n",
       "</style>\n",
       "<table border=\"1\" class=\"dataframe\">\n",
       "  <thead>\n",
       "    <tr style=\"text-align: right;\">\n",
       "      <th></th>\n",
       "      <th>name</th>\n",
       "      <th>device_type</th>\n",
       "      <th>browser</th>\n",
       "      <th>sex</th>\n",
       "      <th>age</th>\n",
       "      <th>bill</th>\n",
       "      <th>region</th>\n",
       "    </tr>\n",
       "  </thead>\n",
       "  <tbody>\n",
       "    <tr>\n",
       "      <th>1</th>\n",
       "      <td>Allison  Master. Hudson Trevor</td>\n",
       "      <td>tablet</td>\n",
       "      <td>Opera</td>\n",
       "      <td>male</td>\n",
       "      <td>48.0</td>\n",
       "      <td>850</td>\n",
       "      <td>Montreal: PQ / Chesterville: ON</td>\n",
       "    </tr>\n",
       "    <tr>\n",
       "      <th>3</th>\n",
       "      <td>Allison  Mr. Hudson Joshua Creighton</td>\n",
       "      <td>desktop</td>\n",
       "      <td>Internet Explorer</td>\n",
       "      <td>male</td>\n",
       "      <td>30.0</td>\n",
       "      <td>214</td>\n",
       "      <td>Montreal: PQ / Chesterville: ON</td>\n",
       "    </tr>\n",
       "    <tr>\n",
       "      <th>5</th>\n",
       "      <td>Anderson  Mr. Harry</td>\n",
       "      <td>mobile</td>\n",
       "      <td>Firefox</td>\n",
       "      <td>male</td>\n",
       "      <td>48.0</td>\n",
       "      <td>371</td>\n",
       "      <td>New York: NY</td>\n",
       "    </tr>\n",
       "    <tr>\n",
       "      <th>7</th>\n",
       "      <td>Andrews  Mr. Thomas Jr</td>\n",
       "      <td>tablet</td>\n",
       "      <td>Internet Explorer</td>\n",
       "      <td>male</td>\n",
       "      <td>39.0</td>\n",
       "      <td>867</td>\n",
       "      <td>Belfast: NI</td>\n",
       "    </tr>\n",
       "    <tr>\n",
       "      <th>9</th>\n",
       "      <td>Artagaveytia  Mr. Ramon</td>\n",
       "      <td>mobile</td>\n",
       "      <td>Firefox</td>\n",
       "      <td>male</td>\n",
       "      <td>71.0</td>\n",
       "      <td>926</td>\n",
       "      <td>Montevideo: Uruguay</td>\n",
       "    </tr>\n",
       "    <tr>\n",
       "      <th>10</th>\n",
       "      <td>Astor  Col. John Jacob</td>\n",
       "      <td>desktop</td>\n",
       "      <td>Chrome</td>\n",
       "      <td>male</td>\n",
       "      <td>47.0</td>\n",
       "      <td>100</td>\n",
       "      <td>New York: NY</td>\n",
       "    </tr>\n",
       "    <tr>\n",
       "      <th>14</th>\n",
       "      <td>Barkworth  Mr. Algernon Henry Wilson</td>\n",
       "      <td>laptop</td>\n",
       "      <td>Chrome</td>\n",
       "      <td>male</td>\n",
       "      <td>80.0</td>\n",
       "      <td>723</td>\n",
       "      <td>Hessle: Yorks</td>\n",
       "    </tr>\n",
       "  </tbody>\n",
       "</table>\n",
       "</div>"
      ],
      "text/plain": [
       "                                    name device_type            browser   sex  \\\n",
       "1         Allison  Master. Hudson Trevor      tablet              Opera  male   \n",
       "3   Allison  Mr. Hudson Joshua Creighton     desktop  Internet Explorer  male   \n",
       "5                    Anderson  Mr. Harry      mobile            Firefox  male   \n",
       "7                 Andrews  Mr. Thomas Jr      tablet  Internet Explorer  male   \n",
       "9                Artagaveytia  Mr. Ramon      mobile            Firefox  male   \n",
       "10                Astor  Col. John Jacob     desktop             Chrome  male   \n",
       "14  Barkworth  Mr. Algernon Henry Wilson      laptop             Chrome  male   \n",
       "\n",
       "     age  bill                           region  \n",
       "1   48.0   850  Montreal: PQ / Chesterville: ON  \n",
       "3   30.0   214  Montreal: PQ / Chesterville: ON  \n",
       "5   48.0   371                     New York: NY  \n",
       "7   39.0   867                      Belfast: NI  \n",
       "9   71.0   926              Montevideo: Uruguay  \n",
       "10  47.0   100                     New York: NY  \n",
       "14  80.0   723                    Hessle: Yorks  "
      ]
     },
     "metadata": {},
     "output_type": "display_data"
    }
   ],
   "source": [
    "df = DataFrame.head(15)\n",
    "df_filter = np.where((df['sex'].str.startswith('m')) & (df['age']>= 30))\n",
    "#print(df_filter)\n",
    "display(df.loc[df_filter])"
   ]
  },
  {
   "cell_type": "code",
   "execution_count": null,
   "id": "0793ba30-f3df-48fa-9f84-9adebd3530d4",
   "metadata": {},
   "outputs": [],
   "source": []
  },
  {
   "cell_type": "code",
   "execution_count": null,
   "id": "b8da1ced-2ec7-4999-b45a-f0541ec25b8f",
   "metadata": {},
   "outputs": [],
   "source": [
    "filtered_values = np.where((dataFrame['Salary']>=100000) & (dataFrame['Age']< 40) & (dataFrame['JOB'].str.startswith('D')))\n",
    "print(filtered_values)\n",
    "display(dataFrame.loc[filtered_values])"
   ]
  },
  {
   "cell_type": "code",
   "execution_count": null,
   "id": "524c8de5-0e85-4a68-92f0-42e77186c054",
   "metadata": {},
   "outputs": [],
   "source": []
  }
 ],
 "metadata": {
  "kernelspec": {
   "display_name": "Python 3",
   "language": "python",
   "name": "python3"
  },
  "language_info": {
   "codemirror_mode": {
    "name": "ipython",
    "version": 3
   },
   "file_extension": ".py",
   "mimetype": "text/x-python",
   "name": "python",
   "nbconvert_exporter": "python",
   "pygments_lexer": "ipython3",
   "version": "3.7.2"
  }
 },
 "nbformat": 4,
 "nbformat_minor": 5
}
