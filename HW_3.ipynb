{
 "cells": [
  {
   "cell_type": "code",
   "execution_count": null,
   "id": "82879d59-5ca8-4cce-9807-c5847ee3d26d",
   "metadata": {},
   "outputs": [],
   "source": [
    "## Домашнее задание 3 "
   ]
  },
  {
   "cell_type": "code",
   "execution_count": 76,
   "id": "f34a8b57-6c8d-44a2-8283-6a64bbdcfa54",
   "metadata": {
    "tags": []
   },
   "outputs": [
    {
     "name": "stdin",
     "output_type": "stream",
     "text": [
      "Введите слово очень\n"
     ]
    },
    {
     "name": "stdout",
     "output_type": "stream",
     "text": [
      "Слово очень Результат е\n"
     ]
    }
   ],
   "source": [
    "#Задача 1 \n",
    "\n",
    "word = input('Введите слово')\n",
    "\n",
    "k = len (word)\n",
    "j = (k//2)-1\n",
    "if k % 2 == 0:\n",
    "    print ('Слово', word, 'Результат', word[int(j):int(j)+2])\n",
    "elif j % 2 != 0:\n",
    "    print('Слово', word, 'Результат', word[int(j)+1:int(j)+2])"
   ]
  },
  {
   "cell_type": "code",
   "execution_count": 2,
   "id": "65fc2162-72a3-43d0-91b0-13dbb1b90659",
   "metadata": {
    "tags": []
   },
   "outputs": [
    {
     "name": "stdin",
     "output_type": "stream",
     "text": [
      "Введите имена парней петя витя олег сережа \n",
      "Введите имена девушек даща маша лена саша катя оля \n"
     ]
    },
    {
     "name": "stdout",
     "output_type": "stream",
     "text": [
      "Кто-то останется без пары\n"
     ]
    }
   ],
   "source": [
    "# Задача 2\n",
    "\n",
    "boys = input('Введите имена парней').split()\n",
    "girls = input('Введите имена девушек').split()\n",
    "\n",
    "Boys = sorted(boys)\n",
    "Girls = sorted(girls)\n",
    "\n",
    "p1 = len(Boys)\n",
    "p2 = len(Girls)\n",
    "\n",
    "n1 = 0\n",
    "n2 = 0\n",
    "if p1 == p2:\n",
    "    while n1 < p1 and n2 < p2: \n",
    "        print('Получились следующие пары:',\n",
    "        Boys[n1], 'and', Girls[n2])\n",
    "        n1 = n1 + 1\n",
    "        n2 = n2 + 1 \n",
    "else :\n",
    "    print('Кто-то останется без пары')\n",
    "\n",
    "#while n1 < p1, n2 < p2:\n",
    "  #  print('получились следующие пары:',\n",
    "   # boys[n1],'and' girls[n2])\n",
    "  #  n1 = n + 1, n2 = n + 1 \n"
   ]
  },
  {
   "cell_type": "code",
   "execution_count": 7,
   "id": "29d1e836-2f5b-4e83-8f98-ed080d4a5181",
   "metadata": {
    "tags": []
   },
   "outputs": [
    {
     "name": "stdout",
     "output_type": "stream",
     "text": [
      "40\n"
     ]
    }
   ],
   "source": [
    "# Попробуем в функции\n",
    "\n",
    "def jopa(n) :\n",
    "    result = n*2\n",
    "    return result\n",
    "\n",
    "print(jopa(n=20))"
   ]
  },
  {
   "cell_type": "code",
   "execution_count": 10,
   "id": "cf61dad6-a828-4c27-a2aa-71ce11dc5977",
   "metadata": {
    "tags": []
   },
   "outputs": [
    {
     "name": "stdout",
     "output_type": "stream",
     "text": [
      "lol\n",
      "even\n",
      "lol\n",
      "even\n",
      "lol\n",
      "even\n"
     ]
    }
   ],
   "source": [
    "nums =[1, 2, 3, 4, 5, 6]\n",
    "\n",
    "prov = lambda x: 'even' if x % 2 == 0  else 'lol' \n",
    "\n",
    "for num in nums :\n",
    "    print (prov(num))"
   ]
  }
 ],
 "metadata": {
  "kernelspec": {
   "display_name": "Python 3",
   "language": "python",
   "name": "python3"
  },
  "language_info": {
   "codemirror_mode": {
    "name": "ipython",
    "version": 3
   },
   "file_extension": ".py",
   "mimetype": "text/x-python",
   "name": "python",
   "nbconvert_exporter": "python",
   "pygments_lexer": "ipython3",
   "version": "3.7.2"
  }
 },
 "nbformat": 4,
 "nbformat_minor": 5
}
