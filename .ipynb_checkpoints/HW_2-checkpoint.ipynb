{
 "cells": [
  {
   "cell_type": "code",
   "execution_count": 1,
   "id": "fccf4b25-5b19-4235-8ca8-66e0cd1a08b4",
   "metadata": {
    "tags": []
   },
   "outputs": [
    {
     "data": {
      "text/plain": [
       "'Hello world'"
      ]
     },
     "execution_count": 1,
     "metadata": {},
     "output_type": "execute_result"
    }
   ],
   "source": [
    "'Hello world'"
   ]
  },
  {
   "cell_type": "code",
   "execution_count": 31,
   "id": "0383b6d2-26d8-4ed1-9c55-10682f5477d4",
   "metadata": {
    "tags": []
   },
   "outputs": [
    {
     "name": "stdin",
     "output_type": "stream",
     "text": [
      "Введите год:  2024\n"
     ]
    },
    {
     "name": "stdout",
     "output_type": "stream",
     "text": [
      "Год 2024 високосный.\n"
     ]
    }
   ],
   "source": [
    "# Задание 1 \n",
    "\n",
    "year = int(input('Введите год: '))\n",
    "\n",
    "if year % 4 != 0:\n",
    "    print('Год' , year, 'не високосный.')\n",
    "\n",
    "elif year % 100 == 0:\n",
    "    if year % 400 == 0 :\n",
    "        print('Год' , year, 'високосный.')\n",
    "    else:\n",
    "        print('Год' , year, 'не високосный.')\n",
    "else:\n",
    "    print('Год' , year, 'високосный.')"
   ]
  },
  {
   "cell_type": "code",
   "execution_count": 27,
   "id": "58205112-0541-495b-8bed-0c7d56326103",
   "metadata": {
    "tags": []
   },
   "outputs": [
    {
     "name": "stdin",
     "output_type": "stream",
     "text": [
      "Введите номер билета 123432\n"
     ]
    },
    {
     "name": "stdout",
     "output_type": "stream",
     "text": [
      "Билет не счастливый\n"
     ]
    }
   ],
   "source": [
    "# Задача 2\n",
    "ticket = int(input('Введите номер билета'))\n",
    "\n",
    "t_str = str(ticket)\n",
    "\n",
    "a1 = t_str[0]\n",
    "a2 = t_str[1]\n",
    "a3 = t_str[2]\n",
    "a4 = t_str[3]\n",
    "a5 = t_str[4]\n",
    "a6 = t_str[5]\n",
    "\n",
    "sum_1 = int(a1) + int(a2) + int(a3)\n",
    "sum_2 = int(a4) + int(a5) + int(a6)\n",
    "\n",
    "res = sum_1 == sum_2\n",
    "\n",
    "if sum_1 == sum_2 :\n",
    "    print ('Билет счастливый')\n",
    "else: print ('Билет не счастливый')\n",
    "\n",
    "\n",
    "\n"
   ]
  },
  {
   "cell_type": "code",
   "execution_count": 35,
   "id": "6200398a-dc41-4ba7-84e7-4a95449393ea",
   "metadata": {},
   "outputs": [
    {
     "name": "stdin",
     "output_type": "stream",
     "text": [
      "Введите номер билета 123456\n"
     ]
    },
    {
     "name": "stdout",
     "output_type": "stream",
     "text": [
      "Билет не счастливый\n"
     ]
    }
   ],
   "source": [
    "#Задача 2, но иначе\n",
    "ticket = str(input('Введите номер билета'))\n",
    "\n",
    "if (int(ticket[0]) + int(ticket[1]) + int(ticket[2])) == (int(ticket[3]) + int(ticket[4]) + int(ticket[5])) :\n",
    "    print ('Билет счастливый')\n",
    "else: print ('Билет не счастливый')"
   ]
  }
 ],
 "metadata": {
  "kernelspec": {
   "display_name": "Python 3",
   "language": "python",
   "name": "python3"
  },
  "language_info": {
   "codemirror_mode": {
    "name": "ipython",
    "version": 3
   },
   "file_extension": ".py",
   "mimetype": "text/x-python",
   "name": "python",
   "nbconvert_exporter": "python",
   "pygments_lexer": "ipython3",
   "version": "3.7.2"
  }
 },
 "nbformat": 4,
 "nbformat_minor": 5
}
