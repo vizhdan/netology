{
 "cells": [
  {
   "cell_type": "code",
   "execution_count": 1,
   "id": "fccf4b25-5b19-4235-8ca8-66e0cd1a08b4",
   "metadata": {
    "tags": []
   },
   "outputs": [
    {
     "data": {
      "text/plain": [
       "'Hello world'"
      ]
     },
     "execution_count": 1,
     "metadata": {},
     "output_type": "execute_result"
    }
   ],
   "source": [
    "'Hello world'"
   ]
  },
  {
   "cell_type": "code",
   "execution_count": 60,
   "id": "0383b6d2-26d8-4ed1-9c55-10682f5477d4",
   "metadata": {
    "tags": []
   },
   "outputs": [
    {
     "name": "stdin",
     "output_type": "stream",
     "text": [
      "Введите год:  2025\n"
     ]
    },
    {
     "name": "stdout",
     "output_type": "stream",
     "text": [
      "Год 2025 не високосный.\n"
     ]
    }
   ],
   "source": [
    "# Задание 1 \n",
    "\n",
    "year = int(input('Введите год: '))\n",
    "\n",
    "if year % 4 != 0:\n",
    "    print('Год' , year, 'не високосный.')\n",
    "\n",
    "elif year % 100 == 0:\n",
    "    if year % 400 == 0 :\n",
    "        print('Год' , year, 'високосный.')\n",
    "    else:\n",
    "        print('Год' , year, 'не високосный.')\n",
    "else:\n",
    "    print('Год' , year, 'високосный.')"
   ]
  },
  {
   "cell_type": "code",
   "execution_count": 69,
   "id": "58205112-0541-495b-8bed-0c7d56326103",
   "metadata": {
    "tags": []
   },
   "outputs": [
    {
     "name": "stdin",
     "output_type": "stream",
     "text": [
      "Введите номер билета 1\n"
     ]
    }
   ],
   "source": [
    "# Задача 2\n",
    "ticket = int(input('Введите номер билета'))\n",
    "\n",
    "\n",
    "             "
   ]
  },
  {
   "cell_type": "code",
   "execution_count": null,
   "id": "6200398a-dc41-4ba7-84e7-4a95449393ea",
   "metadata": {},
   "outputs": [],
   "source": []
  }
 ],
 "metadata": {
  "kernelspec": {
   "display_name": "Python 3",
   "language": "python",
   "name": "python3"
  },
  "language_info": {
   "codemirror_mode": {
    "name": "ipython",
    "version": 3
   },
   "file_extension": ".py",
   "mimetype": "text/x-python",
   "name": "python",
   "nbconvert_exporter": "python",
   "pygments_lexer": "ipython3",
   "version": "3.7.2"
  }
 },
 "nbformat": 4,
 "nbformat_minor": 5
}
